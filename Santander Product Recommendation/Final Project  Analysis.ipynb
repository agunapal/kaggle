{
 "cells": [
  {
   "cell_type": "markdown",
   "metadata": {},
   "source": [
    "## Santander Product Recommendation\n",
    "\n",
    "### Team: Lisa Barcelo, Ankith Gunapal & Prajakta Pandharkar\n",
    "\n",
    "\n",
    "### Please install seaborn using \"pip install seaborn\" if not already installed . We used this to make the graphs looks better. Code works fine even if you comment out the import seaborn statement"
   ]
  },
  {
   "cell_type": "code",
   "execution_count": 1,
   "metadata": {
    "collapsed": false
   },
   "outputs": [],
   "source": [
    "# This tells matplotlib not to try opening a new window for each plot.\n",
    "%matplotlib inline\n",
    "\n",
    "# General libraries.\n",
    "import re\n",
    "import numpy as np\n",
    "import matplotlib.pyplot as plt\n",
    "import datetime\n",
    "\n",
    "# SK-learn libraries for learning.\n",
    "from sklearn.pipeline import Pipeline\n",
    "from sklearn.neighbors import KNeighborsClassifier\n",
    "from sklearn.linear_model import LogisticRegression\n",
    "from sklearn.naive_bayes import BernoulliNB\n",
    "from sklearn.naive_bayes import MultinomialNB\n",
    "from sklearn.grid_search import GridSearchCV\n",
    "from sklearn.feature_extraction import DictVectorizer\n",
    "\n",
    "# SK-learn libraries for evaluation.\n",
    "from sklearn.metrics import confusion_matrix\n",
    "from sklearn import metrics\n",
    "from sklearn.metrics import classification_report\n",
    "\n",
    "# SK-learn libraries for feature extraction from text.\n",
    "from sklearn.feature_extraction.text import *\n",
    "\n",
    "\n",
    "#Random Forest\n",
    "from sklearn import tree\n",
    "from sklearn.tree import DecisionTreeClassifier\n",
    "from sklearn.ensemble import RandomForestClassifier \n",
    "from sklearn.ensemble import AdaBoostClassifier \n",
    "\n",
    "\n",
    "import matplotlib.pyplot as plt\n",
    "import seaborn\n",
    "\n",
    "import warnings\n",
    "warnings.filterwarnings('ignore')\n",
    "\n",
    "import seaborn"
   ]
  },
  {
   "cell_type": "markdown",
   "metadata": {},
   "source": [
    "## The goal is to predict the products a user will buy in June 2016 based on previous years data. \n",
    "## The first idea so far is to train the model with data from June of previous years and then predict what products will be bought in June 2016. The dataset requires a lot of cleaning. We try with various classifiers with one class. \n",
    "\n",
    "## We run this on all the classes and average the accuracy. From what we looked up, we cannnot use Logistic Regression on a multiclass case. Instead, we need to try kNN or Random Forest."
   ]
  },
  {
   "cell_type": "code",
   "execution_count": 2,
   "metadata": {
    "collapsed": false
   },
   "outputs": [],
   "source": [
    "import pandas as pd\n",
    "\n",
    "f = pd.read_csv(\"train_ver2.csv\", nrows=100000)"
   ]
  },
  {
   "cell_type": "markdown",
   "metadata": {},
   "source": [
    "(Once we ran the classifier and the accuracy was high, we didn't think it was necessary to read in more data)"
   ]
  },
  {
   "cell_type": "code",
   "execution_count": 3,
   "metadata": {
    "collapsed": false
   },
   "outputs": [
    {
     "data": {
      "text/html": [
       "<div>\n",
       "<table border=\"1\" class=\"dataframe\">\n",
       "  <thead>\n",
       "    <tr style=\"text-align: right;\">\n",
       "      <th></th>\n",
       "      <th>fecha_dato</th>\n",
       "      <th>ncodpers</th>\n",
       "      <th>ind_empleado</th>\n",
       "      <th>pais_residencia</th>\n",
       "      <th>sexo</th>\n",
       "      <th>age</th>\n",
       "      <th>fecha_alta</th>\n",
       "      <th>ind_nuevo</th>\n",
       "      <th>antiguedad</th>\n",
       "      <th>indrel</th>\n",
       "      <th>...</th>\n",
       "      <th>ind_hip_fin_ult1</th>\n",
       "      <th>ind_plan_fin_ult1</th>\n",
       "      <th>ind_pres_fin_ult1</th>\n",
       "      <th>ind_reca_fin_ult1</th>\n",
       "      <th>ind_tjcr_fin_ult1</th>\n",
       "      <th>ind_valo_fin_ult1</th>\n",
       "      <th>ind_viv_fin_ult1</th>\n",
       "      <th>ind_nomina_ult1</th>\n",
       "      <th>ind_nom_pens_ult1</th>\n",
       "      <th>ind_recibo_ult1</th>\n",
       "    </tr>\n",
       "  </thead>\n",
       "  <tbody>\n",
       "    <tr>\n",
       "      <th>0</th>\n",
       "      <td>2015-01-28</td>\n",
       "      <td>1375586</td>\n",
       "      <td>N</td>\n",
       "      <td>ES</td>\n",
       "      <td>H</td>\n",
       "      <td>35</td>\n",
       "      <td>2015-01-12</td>\n",
       "      <td>0.0</td>\n",
       "      <td>6</td>\n",
       "      <td>1.0</td>\n",
       "      <td>...</td>\n",
       "      <td>0</td>\n",
       "      <td>0</td>\n",
       "      <td>0</td>\n",
       "      <td>0</td>\n",
       "      <td>0</td>\n",
       "      <td>0</td>\n",
       "      <td>0</td>\n",
       "      <td>0.0</td>\n",
       "      <td>0.0</td>\n",
       "      <td>0</td>\n",
       "    </tr>\n",
       "    <tr>\n",
       "      <th>1</th>\n",
       "      <td>2015-01-28</td>\n",
       "      <td>1050611</td>\n",
       "      <td>N</td>\n",
       "      <td>ES</td>\n",
       "      <td>V</td>\n",
       "      <td>23</td>\n",
       "      <td>2012-08-10</td>\n",
       "      <td>0.0</td>\n",
       "      <td>35</td>\n",
       "      <td>1.0</td>\n",
       "      <td>...</td>\n",
       "      <td>0</td>\n",
       "      <td>0</td>\n",
       "      <td>0</td>\n",
       "      <td>0</td>\n",
       "      <td>0</td>\n",
       "      <td>0</td>\n",
       "      <td>0</td>\n",
       "      <td>0.0</td>\n",
       "      <td>0.0</td>\n",
       "      <td>0</td>\n",
       "    </tr>\n",
       "    <tr>\n",
       "      <th>2</th>\n",
       "      <td>2015-01-28</td>\n",
       "      <td>1050612</td>\n",
       "      <td>N</td>\n",
       "      <td>ES</td>\n",
       "      <td>V</td>\n",
       "      <td>23</td>\n",
       "      <td>2012-08-10</td>\n",
       "      <td>0.0</td>\n",
       "      <td>35</td>\n",
       "      <td>1.0</td>\n",
       "      <td>...</td>\n",
       "      <td>0</td>\n",
       "      <td>0</td>\n",
       "      <td>0</td>\n",
       "      <td>0</td>\n",
       "      <td>0</td>\n",
       "      <td>0</td>\n",
       "      <td>0</td>\n",
       "      <td>0.0</td>\n",
       "      <td>0.0</td>\n",
       "      <td>0</td>\n",
       "    </tr>\n",
       "    <tr>\n",
       "      <th>3</th>\n",
       "      <td>2015-01-28</td>\n",
       "      <td>1050613</td>\n",
       "      <td>N</td>\n",
       "      <td>ES</td>\n",
       "      <td>H</td>\n",
       "      <td>22</td>\n",
       "      <td>2012-08-10</td>\n",
       "      <td>0.0</td>\n",
       "      <td>35</td>\n",
       "      <td>1.0</td>\n",
       "      <td>...</td>\n",
       "      <td>0</td>\n",
       "      <td>0</td>\n",
       "      <td>0</td>\n",
       "      <td>0</td>\n",
       "      <td>0</td>\n",
       "      <td>0</td>\n",
       "      <td>0</td>\n",
       "      <td>0.0</td>\n",
       "      <td>0.0</td>\n",
       "      <td>0</td>\n",
       "    </tr>\n",
       "    <tr>\n",
       "      <th>4</th>\n",
       "      <td>2015-01-28</td>\n",
       "      <td>1050614</td>\n",
       "      <td>N</td>\n",
       "      <td>ES</td>\n",
       "      <td>V</td>\n",
       "      <td>23</td>\n",
       "      <td>2012-08-10</td>\n",
       "      <td>0.0</td>\n",
       "      <td>35</td>\n",
       "      <td>1.0</td>\n",
       "      <td>...</td>\n",
       "      <td>0</td>\n",
       "      <td>0</td>\n",
       "      <td>0</td>\n",
       "      <td>0</td>\n",
       "      <td>0</td>\n",
       "      <td>0</td>\n",
       "      <td>0</td>\n",
       "      <td>0.0</td>\n",
       "      <td>0.0</td>\n",
       "      <td>0</td>\n",
       "    </tr>\n",
       "  </tbody>\n",
       "</table>\n",
       "<p>5 rows × 48 columns</p>\n",
       "</div>"
      ],
      "text/plain": [
       "   fecha_dato  ncodpers ind_empleado pais_residencia sexo  age  fecha_alta  \\\n",
       "0  2015-01-28   1375586            N              ES    H   35  2015-01-12   \n",
       "1  2015-01-28   1050611            N              ES    V   23  2012-08-10   \n",
       "2  2015-01-28   1050612            N              ES    V   23  2012-08-10   \n",
       "3  2015-01-28   1050613            N              ES    H   22  2012-08-10   \n",
       "4  2015-01-28   1050614            N              ES    V   23  2012-08-10   \n",
       "\n",
       "   ind_nuevo antiguedad  indrel       ...        ind_hip_fin_ult1  \\\n",
       "0        0.0          6     1.0       ...                       0   \n",
       "1        0.0         35     1.0       ...                       0   \n",
       "2        0.0         35     1.0       ...                       0   \n",
       "3        0.0         35     1.0       ...                       0   \n",
       "4        0.0         35     1.0       ...                       0   \n",
       "\n",
       "   ind_plan_fin_ult1 ind_pres_fin_ult1 ind_reca_fin_ult1 ind_tjcr_fin_ult1  \\\n",
       "0                  0                 0                 0                 0   \n",
       "1                  0                 0                 0                 0   \n",
       "2                  0                 0                 0                 0   \n",
       "3                  0                 0                 0                 0   \n",
       "4                  0                 0                 0                 0   \n",
       "\n",
       "   ind_valo_fin_ult1 ind_viv_fin_ult1 ind_nomina_ult1  ind_nom_pens_ult1  \\\n",
       "0                  0                0             0.0                0.0   \n",
       "1                  0                0             0.0                0.0   \n",
       "2                  0                0             0.0                0.0   \n",
       "3                  0                0             0.0                0.0   \n",
       "4                  0                0             0.0                0.0   \n",
       "\n",
       "   ind_recibo_ult1  \n",
       "0                0  \n",
       "1                0  \n",
       "2                0  \n",
       "3                0  \n",
       "4                0  \n",
       "\n",
       "[5 rows x 48 columns]"
      ]
     },
     "execution_count": 3,
     "metadata": {},
     "output_type": "execute_result"
    }
   ],
   "source": [
    "f.head()"
   ]
  },
  {
   "cell_type": "markdown",
   "metadata": {},
   "source": [
    "### A peek at the various columns in the data frame\n",
    "(Columns 24 and beyond are binary representations of whether or not the products were purchased)"
   ]
  },
  {
   "cell_type": "code",
   "execution_count": 4,
   "metadata": {
    "collapsed": false
   },
   "outputs": [
    {
     "data": {
      "text/plain": [
       "Index([u'fecha_dato', u'ncodpers', u'ind_empleado', u'pais_residencia',\n",
       "       u'sexo', u'age', u'fecha_alta', u'ind_nuevo', u'antiguedad', u'indrel',\n",
       "       u'ult_fec_cli_1t', u'indrel_1mes', u'tiprel_1mes', u'indresi',\n",
       "       u'indext', u'conyuemp', u'canal_entrada', u'indfall', u'tipodom',\n",
       "       u'cod_prov', u'nomprov', u'ind_actividad_cliente', u'renta',\n",
       "       u'segmento', u'ind_ahor_fin_ult1', u'ind_aval_fin_ult1',\n",
       "       u'ind_cco_fin_ult1', u'ind_cder_fin_ult1', u'ind_cno_fin_ult1',\n",
       "       u'ind_ctju_fin_ult1', u'ind_ctma_fin_ult1', u'ind_ctop_fin_ult1',\n",
       "       u'ind_ctpp_fin_ult1', u'ind_deco_fin_ult1', u'ind_deme_fin_ult1',\n",
       "       u'ind_dela_fin_ult1', u'ind_ecue_fin_ult1', u'ind_fond_fin_ult1',\n",
       "       u'ind_hip_fin_ult1', u'ind_plan_fin_ult1', u'ind_pres_fin_ult1',\n",
       "       u'ind_reca_fin_ult1', u'ind_tjcr_fin_ult1', u'ind_valo_fin_ult1',\n",
       "       u'ind_viv_fin_ult1', u'ind_nomina_ult1', u'ind_nom_pens_ult1',\n",
       "       u'ind_recibo_ult1'],\n",
       "      dtype='object')"
      ]
     },
     "execution_count": 4,
     "metadata": {},
     "output_type": "execute_result"
    }
   ],
   "source": [
    "f.columns"
   ]
  },
  {
   "cell_type": "markdown",
   "metadata": {},
   "source": [
    "### Feature Engineering"
   ]
  },
  {
   "cell_type": "code",
   "execution_count": 5,
   "metadata": {
    "collapsed": false
   },
   "outputs": [
    {
     "data": {
      "text/plain": [
       "<matplotlib.text.Text at 0x101ba4910>"
      ]
     },
     "execution_count": 5,
     "metadata": {},
     "output_type": "execute_result"
    },
    {
     "data": {
      "image/png": "[encoded data removed]",
      "text/plain": [
       "<matplotlib.figure.Figure at 0x111e80ed0>"
      ]
     },
     "metadata": {},
     "output_type": "display_data"
    }
   ],
   "source": [
    "#Age was initially set as a string, whereas we needed it to be a number, so we modified it\n",
    "f[\"age\"]   = pd.to_numeric(f[\"age\"], errors=\"coerce\")\n",
    "ax = plt.figure(figsize=(20,8))\n",
    "n,bins,patches = plt.hist(f[\"age\"].dropna(), 50, facecolor='green')\n",
    "plt.xlabel(\"Age\")\n",
    "plt.ylabel(\"Count\")\n",
    "plt.title(\"Distribution of Age\")"
   ]
  },
  {
   "cell_type": "markdown",
   "metadata": {},
   "source": [
    "### We see that there are very few customers who are below the age of 20 and above age 90. Hence, we can transform the ages of these customers to be in the valid region for the model to perform better"
   ]
  },
  {
   "cell_type": "code",
   "execution_count": 6,
   "metadata": {
    "collapsed": true
   },
   "outputs": [],
   "source": [
    "f.loc[f.age < 18,\"age\"]  = f.loc[(f.age >= 18) & (f.age <= 30),\"age\"].mean(skipna=True)\n",
    "f.loc[f.age > 90,\"age\"] = f.loc[(f.age >= 30) & (f.age <= 90),\"age\"].mean(skipna=True)\n",
    "f[\"age\"].fillna(f[\"age\"].mean(),inplace=True)\n",
    "f[\"age\"]                  = f[\"age\"].astype(int)"
   ]
  },
  {
   "cell_type": "markdown",
   "metadata": {},
   "source": [
    "### Transformed Age"
   ]
  },
  {
   "cell_type": "code",
   "execution_count": 7,
   "metadata": {
    "collapsed": false,
    "scrolled": false
   },
   "outputs": [
    {
     "data": {
      "text/plain": [
       "<matplotlib.text.Text at 0x10eab4950>"
      ]
     },
     "execution_count": 7,
     "metadata": {},
     "output_type": "execute_result"
    },
    {
     "data": {
      "image/png": "[encoded data removed]",
      "text/plain": [
       "<matplotlib.figure.Figure at 0x1044aa790>"
      ]
     },
     "metadata": {},
     "output_type": "display_data"
    }
   ],
   "source": [
    "f[\"age\"]   = pd.to_numeric(f[\"age\"], errors=\"coerce\")\n",
    "ax = plt.figure(figsize=(20,8))\n",
    "n,bins,patches = plt.hist(f[\"age\"].dropna(), 50, facecolor='green')\n",
    "plt.xlabel(\"Age\")\n",
    "plt.ylabel(\"Count\")\n",
    "plt.title(\"Distribution of Age\")\n"
   ]
  },
  {
   "cell_type": "code",
   "execution_count": 8,
   "metadata": {
    "collapsed": false
   },
   "outputs": [
    {
     "data": {
      "text/plain": [
       "fecha_dato               False\n",
       "ncodpers                 False\n",
       "ind_empleado              True\n",
       "pais_residencia           True\n",
       "sexo                      True\n",
       "age                      False\n",
       "fecha_alta                True\n",
       "ind_nuevo                 True\n",
       "antiguedad               False\n",
       "indrel                    True\n",
       "ult_fec_cli_1t            True\n",
       "indrel_1mes               True\n",
       "tiprel_1mes               True\n",
       "indresi                   True\n",
       "indext                    True\n",
       "conyuemp                  True\n",
       "canal_entrada             True\n",
       "indfall                   True\n",
       "tipodom                   True\n",
       "cod_prov                  True\n",
       "nomprov                   True\n",
       "ind_actividad_cliente     True\n",
       "renta                     True\n",
       "segmento                  True\n",
       "ind_ahor_fin_ult1        False\n",
       "ind_aval_fin_ult1        False\n",
       "ind_cco_fin_ult1         False\n",
       "ind_cder_fin_ult1        False\n",
       "ind_cno_fin_ult1         False\n",
       "ind_ctju_fin_ult1        False\n",
       "ind_ctma_fin_ult1        False\n",
       "ind_ctop_fin_ult1        False\n",
       "ind_ctpp_fin_ult1        False\n",
       "ind_deco_fin_ult1        False\n",
       "ind_deme_fin_ult1        False\n",
       "ind_dela_fin_ult1        False\n",
       "ind_ecue_fin_ult1        False\n",
       "ind_fond_fin_ult1        False\n",
       "ind_hip_fin_ult1         False\n",
       "ind_plan_fin_ult1        False\n",
       "ind_pres_fin_ult1        False\n",
       "ind_reca_fin_ult1        False\n",
       "ind_tjcr_fin_ult1        False\n",
       "ind_valo_fin_ult1        False\n",
       "ind_viv_fin_ult1         False\n",
       "ind_nomina_ult1           True\n",
       "ind_nom_pens_ult1         True\n",
       "ind_recibo_ult1          False\n",
       "dtype: bool"
      ]
     },
     "execution_count": 8,
     "metadata": {},
     "output_type": "execute_result"
    }
   ],
   "source": [
    "#We want to see which columns held null values so we could zone in \n",
    "f.isnull().any()"
   ]
  },
  {
   "cell_type": "markdown",
   "metadata": {},
   "source": [
    "## renta (income) is likely to be an important feature.  Hence, we need to rectify the data if renta has many missing values."
   ]
  },
  {
   "cell_type": "code",
   "execution_count": 9,
   "metadata": {
    "collapsed": false
   },
   "outputs": [
    {
     "data": {
      "text/plain": [
       "18284"
      ]
     },
     "execution_count": 9,
     "metadata": {},
     "output_type": "execute_result"
    }
   ],
   "source": [
    "f.renta.isnull().sum()"
   ]
  },
  {
   "cell_type": "code",
   "execution_count": 10,
   "metadata": {
    "collapsed": false
   },
   "outputs": [
    {
     "data": {
      "image/png": "[encoded data removed]",
      "text/plain": [
       "<matplotlib.figure.Figure at 0x10f087110>"
      ]
     },
     "metadata": {},
     "output_type": "display_data"
    }
   ],
   "source": [
    "#plotting features for analysis\n",
    "f.ix[:,0:25].hist(figsize=(16,12))\n",
    "plt.show()"
   ]
  },
  {
   "cell_type": "markdown",
   "metadata": {},
   "source": [
    "### A lot of renta entries are missing. We could try replacing NA with the median of renta"
   ]
  },
  {
   "cell_type": "code",
   "execution_count": 11,
   "metadata": {
    "collapsed": false
   },
   "outputs": [
    {
     "name": "stdout",
     "output_type": "stream",
     "text": [
      "89610.21\n"
     ]
    }
   ],
   "source": [
    "print f.renta.median()"
   ]
  },
  {
   "cell_type": "code",
   "execution_count": 12,
   "metadata": {
    "collapsed": false
   },
   "outputs": [],
   "source": [
    "f.loc[f.renta.isnull(), \"renta\"] = f.renta.median()"
   ]
  },
  {
   "cell_type": "code",
   "execution_count": 13,
   "metadata": {
    "collapsed": false
   },
   "outputs": [
    {
     "data": {
      "text/plain": [
       "0"
      ]
     },
     "execution_count": 13,
     "metadata": {},
     "output_type": "execute_result"
    }
   ],
   "source": [
    "f.renta.isnull().sum()"
   ]
  },
  {
   "cell_type": "markdown",
   "metadata": {},
   "source": [
    "### Total Number of entries for the month of June from 2009 to 2016 for train and test"
   ]
  },
  {
   "cell_type": "code",
   "execution_count": 14,
   "metadata": {
    "collapsed": false
   },
   "outputs": [
    {
     "name": "stdout",
     "output_type": "stream",
     "text": [
      "('Number of rows in train : ', 13647309)\n",
      "('Number of rows in test : ', 929615)\n",
      "('Number of customers in train : ', 956645)\n",
      "('Number of customers in test : ', 929615)\n",
      "('Number of common customers : ', 929615)\n"
     ]
    }
   ],
   "source": [
    "train_data_ct = pd.read_csv(\"train_ver2.csv\", usecols=['ncodpers'])\n",
    "test_data_ct = pd.read_csv(\"test_ver2.csv\", usecols=['ncodpers'])\n",
    "print(\"Number of rows in train : \", train_data_ct.shape[0])\n",
    "print(\"Number of rows in test : \", test_data_ct.shape[0])\n",
    "\n",
    "train_unique_cust_nbr = set(train_data_ct.ncodpers.unique())\n",
    "test_unique_cust_nbr = set(test_data_ct.ncodpers.unique())\n",
    "print(\"Number of customers in train : \", len(train_unique_cust_nbr))\n",
    "print(\"Number of customers in test : \", len(test_unique_cust_nbr))\n",
    "print(\"Number of common customers : \", len(train_unique_cust_nbr.intersection(test_unique_cust_nbr)))"
   ]
  },
  {
   "cell_type": "markdown",
   "metadata": {},
   "source": [
    "### Fetch entries for the month of June 2009 through 2014 as well as 2015 and 2016 in its entirety"
   ]
  },
  {
   "cell_type": "code",
   "execution_count": 15,
   "metadata": {
    "collapsed": false
   },
   "outputs": [],
   "source": [
    "g = f[(f['fecha_dato'] >= '2014-06-01') & (f['fecha_dato'] <= '2014-06-30') | \n",
    "      (f['fecha_dato'] >= '2013-06-01') & (f['fecha_dato'] <= '2013-06-30') |\n",
    "      (f['fecha_dato'] >= '2012-06-01') & (f['fecha_dato'] <= '2012-06-30') |\n",
    "      (f['fecha_dato'] >= '2011-06-01') & (f['fecha_dato'] <= '2011-06-30') |\n",
    "      (f['fecha_dato'] >= '2010-06-01') & (f['fecha_dato'] <= '2010-06-30') |\n",
    "      (f['fecha_dato'] >= '2009-06-01') & (f['fecha_dato'] <= '2009-06-30') |\n",
    "      (f['fecha_dato'] >= '2015-01-01') & (f['fecha_dato'] <= '2015-12-31') |\n",
    "      (f['fecha_dato'] >= '2016-01-01') & (f['fecha_dato'] <= '2016-05-31')\n",
    "     ]"
   ]
  },
  {
   "cell_type": "markdown",
   "metadata": {},
   "source": [
    "### The various products to be predicted are from column 25. So, the task is to predict yes or no for 23 products"
   ]
  },
  {
   "cell_type": "code",
   "execution_count": 16,
   "metadata": {
    "collapsed": false
   },
   "outputs": [
    {
     "data": {
      "text/plain": [
       "pandas.core.frame.DataFrame"
      ]
     },
     "execution_count": 16,
     "metadata": {},
     "output_type": "execute_result"
    }
   ],
   "source": [
    "labels = g[g.columns[25:]]\n",
    "type(labels)"
   ]
  },
  {
   "cell_type": "markdown",
   "metadata": {},
   "source": [
    "## canal_entrada, cod_prov, nomprov, and segmento contain NaN values. \n",
    "## filter all the rows containing NaN. \n",
    "## Including canal_entrada is causing issues. The Model throws an error. Not sure what the outlier is"
   ]
  },
  {
   "cell_type": "code",
   "execution_count": 17,
   "metadata": {
    "collapsed": false
   },
   "outputs": [],
   "source": [
    "g_no_nan = g[~g['segmento'].isnull().values & ~g['renta'].isnull().values  & \n",
    "             ~g['cod_prov'].isnull().values & ~g['nomprov'].isnull().values]\n",
    "labels_no_nan = labels[~g['segmento'].isnull().values & ~g['renta'].isnull().values & \n",
    "                       ~g['cod_prov'].isnull().values & ~g['nomprov'].isnull().values]"
   ]
  },
  {
   "cell_type": "code",
   "execution_count": 18,
   "metadata": {
    "collapsed": false
   },
   "outputs": [
    {
     "data": {
      "text/plain": [
       "pandas.core.frame.DataFrame"
      ]
     },
     "execution_count": 18,
     "metadata": {},
     "output_type": "execute_result"
    }
   ],
   "source": [
    "data = g_no_nan[['ind_empleado','ncodpers','age','sexo','ind_nuevo','antiguedad','indrel','indrel_1mes',\n",
    "         'tiprel_1mes','indresi','indext','indfall','ind_actividad_cliente','cod_prov','nomprov','renta','segmento']]\n",
    "type(data)"
   ]
  },
  {
   "cell_type": "code",
   "execution_count": 19,
   "metadata": {
    "collapsed": false
   },
   "outputs": [
    {
     "data": {
      "text/html": [
       "<div>\n",
       "<table border=\"1\" class=\"dataframe\">\n",
       "  <thead>\n",
       "    <tr style=\"text-align: right;\">\n",
       "      <th></th>\n",
       "      <th>ind_empleado</th>\n",
       "      <th>ncodpers</th>\n",
       "      <th>age</th>\n",
       "      <th>sexo</th>\n",
       "      <th>ind_nuevo</th>\n",
       "      <th>antiguedad</th>\n",
       "      <th>indrel</th>\n",
       "      <th>indrel_1mes</th>\n",
       "      <th>tiprel_1mes</th>\n",
       "      <th>indresi</th>\n",
       "      <th>indext</th>\n",
       "      <th>indfall</th>\n",
       "      <th>ind_actividad_cliente</th>\n",
       "      <th>cod_prov</th>\n",
       "      <th>nomprov</th>\n",
       "      <th>renta</th>\n",
       "      <th>segmento</th>\n",
       "    </tr>\n",
       "  </thead>\n",
       "  <tbody>\n",
       "    <tr>\n",
       "      <th>0</th>\n",
       "      <td>N</td>\n",
       "      <td>1375586</td>\n",
       "      <td>35</td>\n",
       "      <td>H</td>\n",
       "      <td>0.0</td>\n",
       "      <td>6</td>\n",
       "      <td>1.0</td>\n",
       "      <td>1.0</td>\n",
       "      <td>A</td>\n",
       "      <td>S</td>\n",
       "      <td>N</td>\n",
       "      <td>N</td>\n",
       "      <td>1.0</td>\n",
       "      <td>29.0</td>\n",
       "      <td>MALAGA</td>\n",
       "      <td>87218.10</td>\n",
       "      <td>02 - PARTICULARES</td>\n",
       "    </tr>\n",
       "    <tr>\n",
       "      <th>1</th>\n",
       "      <td>N</td>\n",
       "      <td>1050611</td>\n",
       "      <td>23</td>\n",
       "      <td>V</td>\n",
       "      <td>0.0</td>\n",
       "      <td>35</td>\n",
       "      <td>1.0</td>\n",
       "      <td>1.0</td>\n",
       "      <td>I</td>\n",
       "      <td>S</td>\n",
       "      <td>S</td>\n",
       "      <td>N</td>\n",
       "      <td>0.0</td>\n",
       "      <td>13.0</td>\n",
       "      <td>CIUDAD REAL</td>\n",
       "      <td>35548.74</td>\n",
       "      <td>03 - UNIVERSITARIO</td>\n",
       "    </tr>\n",
       "    <tr>\n",
       "      <th>2</th>\n",
       "      <td>N</td>\n",
       "      <td>1050612</td>\n",
       "      <td>23</td>\n",
       "      <td>V</td>\n",
       "      <td>0.0</td>\n",
       "      <td>35</td>\n",
       "      <td>1.0</td>\n",
       "      <td>1.0</td>\n",
       "      <td>I</td>\n",
       "      <td>S</td>\n",
       "      <td>N</td>\n",
       "      <td>N</td>\n",
       "      <td>0.0</td>\n",
       "      <td>13.0</td>\n",
       "      <td>CIUDAD REAL</td>\n",
       "      <td>122179.11</td>\n",
       "      <td>03 - UNIVERSITARIO</td>\n",
       "    </tr>\n",
       "    <tr>\n",
       "      <th>3</th>\n",
       "      <td>N</td>\n",
       "      <td>1050613</td>\n",
       "      <td>22</td>\n",
       "      <td>H</td>\n",
       "      <td>0.0</td>\n",
       "      <td>35</td>\n",
       "      <td>1.0</td>\n",
       "      <td>1.0</td>\n",
       "      <td>I</td>\n",
       "      <td>S</td>\n",
       "      <td>N</td>\n",
       "      <td>N</td>\n",
       "      <td>0.0</td>\n",
       "      <td>50.0</td>\n",
       "      <td>ZARAGOZA</td>\n",
       "      <td>119775.54</td>\n",
       "      <td>03 - UNIVERSITARIO</td>\n",
       "    </tr>\n",
       "    <tr>\n",
       "      <th>4</th>\n",
       "      <td>N</td>\n",
       "      <td>1050614</td>\n",
       "      <td>23</td>\n",
       "      <td>V</td>\n",
       "      <td>0.0</td>\n",
       "      <td>35</td>\n",
       "      <td>1.0</td>\n",
       "      <td>1.0</td>\n",
       "      <td>A</td>\n",
       "      <td>S</td>\n",
       "      <td>N</td>\n",
       "      <td>N</td>\n",
       "      <td>1.0</td>\n",
       "      <td>50.0</td>\n",
       "      <td>ZARAGOZA</td>\n",
       "      <td>89610.21</td>\n",
       "      <td>03 - UNIVERSITARIO</td>\n",
       "    </tr>\n",
       "  </tbody>\n",
       "</table>\n",
       "</div>"
      ],
      "text/plain": [
       "  ind_empleado  ncodpers  age sexo  ind_nuevo antiguedad  indrel  indrel_1mes  \\\n",
       "0            N   1375586   35    H        0.0          6     1.0          1.0   \n",
       "1            N   1050611   23    V        0.0         35     1.0          1.0   \n",
       "2            N   1050612   23    V        0.0         35     1.0          1.0   \n",
       "3            N   1050613   22    H        0.0         35     1.0          1.0   \n",
       "4            N   1050614   23    V        0.0         35     1.0          1.0   \n",
       "\n",
       "  tiprel_1mes indresi indext indfall  ind_actividad_cliente  cod_prov  \\\n",
       "0           A       S      N       N                    1.0      29.0   \n",
       "1           I       S      S       N                    0.0      13.0   \n",
       "2           I       S      N       N                    0.0      13.0   \n",
       "3           I       S      N       N                    0.0      50.0   \n",
       "4           A       S      N       N                    1.0      50.0   \n",
       "\n",
       "       nomprov      renta            segmento  \n",
       "0       MALAGA   87218.10   02 - PARTICULARES  \n",
       "1  CIUDAD REAL   35548.74  03 - UNIVERSITARIO  \n",
       "2  CIUDAD REAL  122179.11  03 - UNIVERSITARIO  \n",
       "3     ZARAGOZA  119775.54  03 - UNIVERSITARIO  \n",
       "4     ZARAGOZA   89610.21  03 - UNIVERSITARIO  "
      ]
     },
     "execution_count": 19,
     "metadata": {},
     "output_type": "execute_result"
    }
   ],
   "source": [
    "data.head()"
   ]
  },
  {
   "cell_type": "code",
   "execution_count": 20,
   "metadata": {
    "collapsed": false
   },
   "outputs": [],
   "source": [
    "#Convert to numpy array\n",
    "data = data.as_matrix()\n",
    "labels = labels_no_nan.as_matrix()"
   ]
  },
  {
   "cell_type": "markdown",
   "metadata": {},
   "source": [
    "### Since many of the features are categorical variables, we had to use a Vectorizer to convert the features to a matrix which the Classifiers understand"
   ]
  },
  {
   "cell_type": "markdown",
   "metadata": {},
   "source": [
    "We did some research and found that DictVectorizer was the most suggested one: http://stackoverflow.com/questions/15021521/how-to-encode-a-categorical-variable-in-sklearn"
   ]
  },
  {
   "cell_type": "code",
   "execution_count": 21,
   "metadata": {
    "collapsed": false
   },
   "outputs": [],
   "source": [
    "dv = DictVectorizer(sparse=False) \n",
    "df = pd.DataFrame(data).convert_objects(convert_numeric=True)\n",
    "data = dv.fit_transform(df.to_dict(orient='records'))"
   ]
  },
  {
   "cell_type": "code",
   "execution_count": 22,
   "metadata": {
    "collapsed": false
   },
   "outputs": [],
   "source": [
    "labels = labels[~np.isnan(labels[:,20]) & ~np.isnan(labels[:,21])]\n",
    "data = data[~np.isnan(labels[:,20]) & ~np.isnan(labels[:,21])]"
   ]
  },
  {
   "cell_type": "code",
   "execution_count": 23,
   "metadata": {
    "collapsed": false
   },
   "outputs": [],
   "source": [
    "train_data = data[:8000,]\n",
    "dev_data = data[8000:,]\n",
    "train_labels = labels[:8000,]\n",
    "dev_labels = labels[8000:,]"
   ]
  },
  {
   "cell_type": "markdown",
   "metadata": {},
   "source": [
    "## Running models..."
   ]
  },
  {
   "cell_type": "code",
   "execution_count": 24,
   "metadata": {
    "collapsed": false
   },
   "outputs": [
    {
     "name": "stdout",
     "output_type": "stream",
     "text": [
      "Accuracy is 0.97\n"
     ]
    }
   ],
   "source": [
    "accuracy = 0\n",
    "count = 0\n",
    "i_s = []\n",
    "acc = []\n",
    "for i in range(train_labels.shape[1]):\n",
    "    train_labels[:,i] = np.nan_to_num(train_labels[:,i])\n",
    "    if np.sum(train_labels[:,i] != 0.0):\n",
    "        count += 1\n",
    "        clf = LogisticRegression()\n",
    "        clf.fit(train_data,train_labels[:,i])\n",
    "        accuracy += clf.score(dev_data, dev_labels[:,i])\n",
    "        i_s.append(i)\n",
    "        acc.append(clf.score(dev_data, dev_labels[:,i]))\n",
    "        #print 'sklearn accuracy for i = %d with Logistic regression: %3.2f' %(i,clf.score(dev_data, dev_labels[:,i]))\n",
    "print \"Accuracy is %3.2f\" %(accuracy/count)"
   ]
  },
  {
   "cell_type": "code",
   "execution_count": 25,
   "metadata": {
    "collapsed": false
   },
   "outputs": [
    {
     "data": {
      "image/png": "[encoded data removed]",
      "text/plain": [
       "<matplotlib.figure.Figure at 0x10f4b0bd0>"
      ]
     },
     "metadata": {},
     "output_type": "display_data"
    }
   ],
   "source": [
    "plt.plot(i_s,acc)\n",
    "plt.title('Logistic Regression Model')\n",
    "plt.xlabel('Products')\n",
    "plt.ylabel('Accuracy')\n",
    "plt.axis([0, 25, 0.5, 1.05])\n",
    "plt.show()"
   ]
  },
  {
   "cell_type": "code",
   "execution_count": 26,
   "metadata": {
    "collapsed": false
   },
   "outputs": [
    {
     "name": "stdout",
     "output_type": "stream",
     "text": [
      "Accuracy is 0.97\n"
     ]
    }
   ],
   "source": [
    "accuracy = 0\n",
    "count = 0\n",
    "i_s = []\n",
    "acc = []\n",
    "for i in range(train_labels.shape[1]):\n",
    "    train_labels[:,i] = np.nan_to_num(train_labels[:,i])\n",
    "    if np.sum(train_labels[:,i] != 0.0):\n",
    "        count += 1\n",
    "        clf = KNeighborsClassifier(n_neighbors=3)\n",
    "        clf.fit(train_data,train_labels[:,i])\n",
    "        accuracy += clf.score(dev_data, dev_labels[:,i])\n",
    "        i_s.append(i)\n",
    "        acc.append(clf.score(dev_data, dev_labels[:,i]))\n",
    "        #print 'sklearn accuracy for i = %d with kNN: %3.2f' %(i,clf.score(dev_data, dev_labels[:,i]))\n",
    "print \"Accuracy is %3.2f\" %(accuracy/count)        "
   ]
  },
  {
   "cell_type": "code",
   "execution_count": 27,
   "metadata": {
    "collapsed": false,
    "scrolled": true
   },
   "outputs": [
    {
     "data": {
      "image/png": "[encoded data removed]",
      "text/plain": [
       "<matplotlib.figure.Figure at 0x10f478ed0>"
      ]
     },
     "metadata": {},
     "output_type": "display_data"
    }
   ],
   "source": [
    "plt.plot(i_s,acc)\n",
    "plt.title('K Nearest Neighbors')\n",
    "plt.xlabel('Products')\n",
    "plt.ylabel('Accuracy')\n",
    "plt.axis([0, 25, 0.5, 1.05])\n",
    "plt.show()"
   ]
  },
  {
   "cell_type": "code",
   "execution_count": 28,
   "metadata": {
    "collapsed": false
   },
   "outputs": [
    {
     "name": "stdout",
     "output_type": "stream",
     "text": [
      "Accuracy is 0.91\n"
     ]
    }
   ],
   "source": [
    "accuracy = 0\n",
    "count = 0\n",
    "i_s = []\n",
    "acc = []\n",
    "\n",
    "for i in range(train_labels.shape[1]):\n",
    "    train_labels[:,i] = np.nan_to_num(train_labels[:,i])\n",
    "    if np.sum(train_labels[:,i] != 0.0):\n",
    "        count += 1\n",
    "        clf = BernoulliNB()\n",
    "        clf.fit(train_data,train_labels[:,i])\n",
    "        accuracy += clf.score(dev_data, dev_labels[:,i])\n",
    "        i_s.append(i)\n",
    "        acc.append(clf.score(dev_data, dev_labels[:,i]))\n",
    "        #print 'sklearn accuracy for i = %d with BernoulliNB: %3.2f' %(i,clf.score(dev_data, dev_labels[:,i]))\n",
    "print \"Accuracy is %3.2f\" %(accuracy/count)        "
   ]
  },
  {
   "cell_type": "code",
   "execution_count": 29,
   "metadata": {
    "collapsed": false
   },
   "outputs": [
    {
     "data": {
      "image/png": "[encoded data removed]",
      "text/plain": [
       "<matplotlib.figure.Figure at 0x10e9d42d0>"
      ]
     },
     "metadata": {},
     "output_type": "display_data"
    }
   ],
   "source": [
    "plt.plot(i_s,acc)\n",
    "plt.title('Bernoulli')\n",
    "plt.ylabel('Accuracy')\n",
    "plt.xlabel('Products')\n",
    "plt.axis([0, 25, 0.5, 1.05])\n",
    "plt.show()"
   ]
  },
  {
   "cell_type": "code",
   "execution_count": 30,
   "metadata": {
    "collapsed": false
   },
   "outputs": [
    {
     "name": "stdout",
     "output_type": "stream",
     "text": [
      "Accuracy is 0.70\n"
     ]
    }
   ],
   "source": [
    "accuracy = 0\n",
    "count = 0\n",
    "i_s = []\n",
    "acc = []\n",
    "\n",
    "for i in range(train_labels.shape[1]):\n",
    "    train_labels[:,i] = np.nan_to_num(train_labels[:,i])\n",
    "    if np.sum(train_labels[:,i] != 0.0):\n",
    "        count += 1\n",
    "        clf = MultinomialNB()\n",
    "        clf.fit(train_data,train_labels[:,i])\n",
    "        accuracy += clf.score(dev_data, dev_labels[:,i])\n",
    "        i_s.append(i)\n",
    "        acc.append(clf.score(dev_data, dev_labels[:,i]))\n",
    "        #print 'sklearn accuracy for i = %d with MultinomialNB: %3.2f' %(i,clf.score(dev_data, dev_labels[:,i]))\n",
    "print \"Accuracy is %3.2f\" %(accuracy/count)        "
   ]
  },
  {
   "cell_type": "code",
   "execution_count": 31,
   "metadata": {
    "collapsed": false
   },
   "outputs": [
    {
     "data": {
      "image/png": "[encoded data removed]",
      "text/plain": [
       "<matplotlib.figure.Figure at 0x10f46ed90>"
      ]
     },
     "metadata": {},
     "output_type": "display_data"
    }
   ],
   "source": [
    "plt.plot(i_s,acc)\n",
    "plt.title('MultiNomial Naive Bayes')\n",
    "plt.ylabel('Accuracy')\n",
    "plt.xlabel('Products')\n",
    "plt.axis([0, 25, 0, 1.05])\n",
    "plt.show()"
   ]
  },
  {
   "cell_type": "markdown",
   "metadata": {},
   "source": [
    "## Experimenting with random forest"
   ]
  },
  {
   "cell_type": "code",
   "execution_count": 32,
   "metadata": {
    "collapsed": false
   },
   "outputs": [
    {
     "name": "stdout",
     "output_type": "stream",
     "text": [
      "Accuracy (a decision tree): 0.479686026881\n",
      "Accuracy (a random forest) for 1 estimators:  0.647\n",
      "Accuracy (a random forest) for 5 estimators:  0.722\n",
      "Accuracy (a random forest) for 10 estimators:  0.740\n",
      "Accuracy (a random forest) for 25 estimators:  0.750\n",
      "Accuracy (a random forest) for 50 estimators:  0.752\n"
     ]
    }
   ],
   "source": [
    "#ensemble methods\n",
    "dt = DecisionTreeClassifier(criterion=\"entropy\", splitter=\"best\", random_state=0)\n",
    "dt.fit(train_data, train_labels)\n",
    "\n",
    "print 'Accuracy (a decision tree):', dt.score(dev_data, dev_labels)\n",
    "\n",
    "acc = []\n",
    "i_s = []\n",
    "for nn in [1,5,10,25,50]:\n",
    "    rfc = RandomForestClassifier(n_estimators=nn)\n",
    "    rfc.fit(train_data, train_labels)\n",
    "    i_s.append(nn)\n",
    "    acc.append(rfc.score(dev_data, dev_labels))\n",
    "\n",
    "    print 'Accuracy (a random forest) for', nn, \"estimators: \", \"%.3f\" % rfc.score(dev_data, dev_labels)    "
   ]
  },
  {
   "cell_type": "code",
   "execution_count": 33,
   "metadata": {
    "collapsed": false
   },
   "outputs": [
    {
     "data": {
      "image/png": "[encoded data removed]",
      "text/plain": [
       "<matplotlib.figure.Figure at 0x110afb450>"
      ]
     },
     "metadata": {},
     "output_type": "display_data"
    }
   ],
   "source": [
    "plt.plot(i_s,acc)\n",
    "plt.title('Random Forest')\n",
    "plt.ylabel('Accuracy')\n",
    "plt.xlabel('Products')\n",
    "plt.axis([0, 51, 0, 1.05])\n",
    "plt.show()"
   ]
  },
  {
   "cell_type": "markdown",
   "metadata": {},
   "source": [
    "## Analysis of the various Classifiers."
   ]
  },
  {
   "cell_type": "markdown",
   "metadata": {},
   "source": [
    "### NaiveBayes perfoms a bit poorly compared to Logistic Regression & NearestNeighbors because of the assumption of independence of features. For example: Age & Income are not independent. People between the age of 20 & 40 seem to have higher income.\n",
    "### We also observe that running the Classifiers per class gives better accuracy than running Classifiers on all classes in one shot."
   ]
  },
  {
   "cell_type": "code",
   "execution_count": 34,
   "metadata": {
    "collapsed": false
   },
   "outputs": [
    {
     "data": {
      "text/plain": [
       "<matplotlib.text.Text at 0x10e5b0e90>"
      ]
     },
     "execution_count": 34,
     "metadata": {},
     "output_type": "execute_result"
    },
    {
     "data": {
      "image/png": "[encoded data removed]",
      "text/plain": [
       "<matplotlib.figure.Figure at 0x10e5b1f10>"
      ]
     },
     "metadata": {},
     "output_type": "display_data"
    }
   ],
   "source": [
    "plt.scatter(f[\"age\"],f[\"renta\"])\n",
    "plt.xlabel(\"Age\")\n",
    "plt.ylabel(\"Income\")\n",
    "plt.title(\"Distribution of Income vs Age\")"
   ]
  },
  {
   "cell_type": "markdown",
   "metadata": {},
   "source": [
    "### Random Forests did not perform quite as well.\n",
    "### Upon closer inspection we noticed that it might selecting features based on data quality (i.e., columns with less \"null\" features)\n",
    "\n",
    "#### In fact, we can see that the columns that needed a lot of cleaning show up on the right hand side of our sorted graph"
   ]
  },
  {
   "cell_type": "code",
   "execution_count": 35,
   "metadata": {
    "collapsed": false
   },
   "outputs": [
    {
     "name": "stdout",
     "output_type": "stream",
     "text": [
      "Model: Random Forest\n",
      "\n",
      "25 Important features for random forest are\n",
      "\n",
      "['fecha_dato', 'ncodpers', 'ind_empleado', 'pais_residencia', 'sexo', 'agefecha_alta', 'ind_nuevo', 'antiguedad', 'indrel', 'ult_fec_cli_1t', 'indrel_1mes', 'tiprel_1mes', 'indresi', 'indext', 'conyuemp', 'canal_entrada', 'indfall', 'tipodom', 'cod_prov', 'nomprov', 'ind_actividad_cliente', 'renta', 'segmento']\n"
     ]
    },
    {
     "data": {
      "text/plain": [
       "(0, 25)"
      ]
     },
     "execution_count": 35,
     "metadata": {},
     "output_type": "execute_result"
    },
    {
     "data": {
      "image/png": "[encoded data removed]",
      "text/plain": [
       "<matplotlib.figure.Figure at 0x111bf3bd0>"
      ]
     },
     "metadata": {},
     "output_type": "display_data"
    }
   ],
   "source": [
    "#See what random forest has used as important features \n",
    "\n",
    "featuresind=[]\n",
    "plt.figure(figsize=(8, 4))\n",
    "featuresind = np.argsort(rfc.feature_importances_)[::-1]\n",
    "imp_features = rfc.feature_importances_[featuresind][:25]\n",
    "feature_names = ['fecha_dato', 'ncodpers', 'ind_empleado', 'pais_residencia', 'sexo' ,'age'\n",
    "     'fecha_alta', 'ind_nuevo', 'antiguedad', 'indrel', 'ult_fec_cli_1t',\n",
    "     'indrel_1mes', 'tiprel_1mes', 'indresi', 'indext', 'conyuemp', 'canal_entrada',\n",
    "     'indfall', 'tipodom' ,'cod_prov' ,'nomprov', 'ind_actividad_cliente', 'renta',\n",
    "     'segmento']\n",
    "feature_names_array=np.array(feature_names)\n",
    "    \n",
    "print \"Model: Random Forest\\n\"\n",
    "print \"%d Important features for random forest are\\n\" % 25\n",
    "print feature_names\n",
    "\n",
    "#Bar char of important features \n",
    "plt.bar(np.arange(len(imp_features)), imp_features, width=1, lw=2)\n",
    "xlabels=feature_names\n",
    "xtick = np.arange(len(imp_features)+0.5)\n",
    "ax = plt.subplot(111)\n",
    "ax.set_xticks(xtick)\n",
    "ax.set_xticklabels(xlabels, rotation=90)\n",
    "plt.xlim(0, len(imp_features))"
   ]
  },
  {
   "cell_type": "markdown",
   "metadata": {},
   "source": [
    "## Bringing in test file"
   ]
  },
  {
   "cell_type": "code",
   "execution_count": 36,
   "metadata": {
    "collapsed": false
   },
   "outputs": [
    {
     "data": {
      "text/html": [
       "<div>\n",
       "<table border=\"1\" class=\"dataframe\">\n",
       "  <thead>\n",
       "    <tr style=\"text-align: right;\">\n",
       "      <th></th>\n",
       "      <th>fecha_dato</th>\n",
       "      <th>ncodpers</th>\n",
       "      <th>ind_empleado</th>\n",
       "      <th>pais_residencia</th>\n",
       "      <th>sexo</th>\n",
       "      <th>age</th>\n",
       "      <th>fecha_alta</th>\n",
       "      <th>ind_nuevo</th>\n",
       "      <th>antiguedad</th>\n",
       "      <th>indrel</th>\n",
       "      <th>...</th>\n",
       "      <th>indext</th>\n",
       "      <th>conyuemp</th>\n",
       "      <th>canal_entrada</th>\n",
       "      <th>indfall</th>\n",
       "      <th>tipodom</th>\n",
       "      <th>cod_prov</th>\n",
       "      <th>nomprov</th>\n",
       "      <th>ind_actividad_cliente</th>\n",
       "      <th>renta</th>\n",
       "      <th>segmento</th>\n",
       "    </tr>\n",
       "  </thead>\n",
       "  <tbody>\n",
       "    <tr>\n",
       "      <th>0</th>\n",
       "      <td>2016-06-28</td>\n",
       "      <td>15889</td>\n",
       "      <td>F</td>\n",
       "      <td>ES</td>\n",
       "      <td>V</td>\n",
       "      <td>56</td>\n",
       "      <td>1995-01-16</td>\n",
       "      <td>0</td>\n",
       "      <td>256</td>\n",
       "      <td>1</td>\n",
       "      <td>...</td>\n",
       "      <td>N</td>\n",
       "      <td>N</td>\n",
       "      <td>KAT</td>\n",
       "      <td>N</td>\n",
       "      <td>1</td>\n",
       "      <td>28.0</td>\n",
       "      <td>MADRID</td>\n",
       "      <td>1</td>\n",
       "      <td>326124.90</td>\n",
       "      <td>01 - TOP</td>\n",
       "    </tr>\n",
       "    <tr>\n",
       "      <th>1</th>\n",
       "      <td>2016-06-28</td>\n",
       "      <td>1170544</td>\n",
       "      <td>N</td>\n",
       "      <td>ES</td>\n",
       "      <td>H</td>\n",
       "      <td>36</td>\n",
       "      <td>2013-08-28</td>\n",
       "      <td>0</td>\n",
       "      <td>34</td>\n",
       "      <td>1</td>\n",
       "      <td>...</td>\n",
       "      <td>N</td>\n",
       "      <td>N</td>\n",
       "      <td>KAT</td>\n",
       "      <td>N</td>\n",
       "      <td>1</td>\n",
       "      <td>3.0</td>\n",
       "      <td>ALICANTE</td>\n",
       "      <td>0</td>\n",
       "      <td>NA</td>\n",
       "      <td>02 - PARTICULARES</td>\n",
       "    </tr>\n",
       "    <tr>\n",
       "      <th>2</th>\n",
       "      <td>2016-06-28</td>\n",
       "      <td>1170545</td>\n",
       "      <td>N</td>\n",
       "      <td>ES</td>\n",
       "      <td>V</td>\n",
       "      <td>22</td>\n",
       "      <td>2013-08-28</td>\n",
       "      <td>0</td>\n",
       "      <td>34</td>\n",
       "      <td>1</td>\n",
       "      <td>...</td>\n",
       "      <td>N</td>\n",
       "      <td>N</td>\n",
       "      <td>KHE</td>\n",
       "      <td>N</td>\n",
       "      <td>1</td>\n",
       "      <td>15.0</td>\n",
       "      <td>CORUÑA, A</td>\n",
       "      <td>1</td>\n",
       "      <td>NA</td>\n",
       "      <td>03 - UNIVERSITARIO</td>\n",
       "    </tr>\n",
       "    <tr>\n",
       "      <th>3</th>\n",
       "      <td>2016-06-28</td>\n",
       "      <td>1170547</td>\n",
       "      <td>N</td>\n",
       "      <td>ES</td>\n",
       "      <td>H</td>\n",
       "      <td>22</td>\n",
       "      <td>2013-08-28</td>\n",
       "      <td>0</td>\n",
       "      <td>34</td>\n",
       "      <td>1</td>\n",
       "      <td>...</td>\n",
       "      <td>N</td>\n",
       "      <td>N</td>\n",
       "      <td>KHE</td>\n",
       "      <td>N</td>\n",
       "      <td>1</td>\n",
       "      <td>8.0</td>\n",
       "      <td>BARCELONA</td>\n",
       "      <td>0</td>\n",
       "      <td>148402.98</td>\n",
       "      <td>03 - UNIVERSITARIO</td>\n",
       "    </tr>\n",
       "    <tr>\n",
       "      <th>4</th>\n",
       "      <td>2016-06-28</td>\n",
       "      <td>1170548</td>\n",
       "      <td>N</td>\n",
       "      <td>ES</td>\n",
       "      <td>H</td>\n",
       "      <td>22</td>\n",
       "      <td>2013-08-28</td>\n",
       "      <td>0</td>\n",
       "      <td>34</td>\n",
       "      <td>1</td>\n",
       "      <td>...</td>\n",
       "      <td>N</td>\n",
       "      <td>N</td>\n",
       "      <td>KHE</td>\n",
       "      <td>N</td>\n",
       "      <td>1</td>\n",
       "      <td>7.0</td>\n",
       "      <td>BALEARS, ILLES</td>\n",
       "      <td>0</td>\n",
       "      <td>106885.80</td>\n",
       "      <td>03 - UNIVERSITARIO</td>\n",
       "    </tr>\n",
       "  </tbody>\n",
       "</table>\n",
       "<p>5 rows × 24 columns</p>\n",
       "</div>"
      ],
      "text/plain": [
       "   fecha_dato  ncodpers ind_empleado pais_residencia sexo  age  fecha_alta  \\\n",
       "0  2016-06-28     15889            F              ES    V   56  1995-01-16   \n",
       "1  2016-06-28   1170544            N              ES    H   36  2013-08-28   \n",
       "2  2016-06-28   1170545            N              ES    V   22  2013-08-28   \n",
       "3  2016-06-28   1170547            N              ES    H   22  2013-08-28   \n",
       "4  2016-06-28   1170548            N              ES    H   22  2013-08-28   \n",
       "\n",
       "   ind_nuevo  antiguedad  indrel         ...         indext  conyuemp  \\\n",
       "0          0         256       1         ...              N         N   \n",
       "1          0          34       1         ...              N         N   \n",
       "2          0          34       1         ...              N         N   \n",
       "3          0          34       1         ...              N         N   \n",
       "4          0          34       1         ...              N         N   \n",
       "\n",
       "  canal_entrada indfall tipodom cod_prov         nomprov  \\\n",
       "0           KAT       N       1     28.0          MADRID   \n",
       "1           KAT       N       1      3.0        ALICANTE   \n",
       "2           KHE       N       1     15.0       CORUÑA, A   \n",
       "3           KHE       N       1      8.0       BARCELONA   \n",
       "4           KHE       N       1      7.0  BALEARS, ILLES   \n",
       "\n",
       "  ind_actividad_cliente        renta            segmento  \n",
       "0                     1    326124.90            01 - TOP  \n",
       "1                     0           NA   02 - PARTICULARES  \n",
       "2                     1           NA  03 - UNIVERSITARIO  \n",
       "3                     0    148402.98  03 - UNIVERSITARIO  \n",
       "4                     0    106885.80  03 - UNIVERSITARIO  \n",
       "\n",
       "[5 rows x 24 columns]"
      ]
     },
     "execution_count": 36,
     "metadata": {},
     "output_type": "execute_result"
    }
   ],
   "source": [
    "t = pd.read_csv(\"test_ver2.csv\")\n",
    "t = t.fillna(method='ffill')\n",
    "t = t.fillna(lambda x: x.median())\n",
    "\n",
    "t.head()"
   ]
  },
  {
   "cell_type": "code",
   "execution_count": 37,
   "metadata": {
    "collapsed": false
   },
   "outputs": [
    {
     "name": "stdout",
     "output_type": "stream",
     "text": [
      "929615\n"
     ]
    }
   ],
   "source": [
    "#Bringing in the June entries from the test data\n",
    "g =  t[(t['fecha_dato'] >= '2016-06-01') & (t['fecha_dato'] <= '2016-06-30')\n",
    "      ]\n",
    "print len(g)"
   ]
  },
  {
   "cell_type": "code",
   "execution_count": 38,
   "metadata": {
    "collapsed": false
   },
   "outputs": [
    {
     "name": "stdout",
     "output_type": "stream",
     "text": [
      "min 0.0\n",
      "max 28894395.51\n"
     ]
    }
   ],
   "source": [
    "#'renta' had a lot of null values which was causing problems\n",
    "#we realized that there was a string ending in '     NA' that was behind the problem, so we replaced it\n",
    "g.replace(to_replace='         NA', value=0.0, inplace=True)\n",
    "\n",
    "#proving that we do not have any more nulls\n",
    "print \"min\", g.renta.min()\n",
    "print \"max\", g.renta.max()"
   ]
  },
  {
   "cell_type": "code",
   "execution_count": 39,
   "metadata": {
    "collapsed": true
   },
   "outputs": [],
   "source": [
    "#we wanted to build our labels and features sets without null values\n",
    "\n",
    "labels2 = g[g.columns[25:]]\n",
    "g_no_nan = g[~g['segmento'].isnull().values & ~g['renta'].isnull().values  & \n",
    "             ~g['cod_prov'].isnull().values & ~g['nomprov'].isnull().values]\n",
    "labels_no_nan2 = labels2[~g['segmento'].isnull().values & ~g['renta'].isnull().values & \n",
    "                       ~g['cod_prov'].isnull().values & ~g['nomprov'].isnull().values]\n",
    "\n",
    "data2 = g_no_nan[['ncodpers','age','sexo','ind_nuevo','antiguedad','indrel','indrel_1mes',\n",
    "         'tiprel_1mes','indresi','indext','indfall','ind_actividad_cliente','cod_prov','nomprov','renta','segmento']]"
   ]
  },
  {
   "cell_type": "code",
   "execution_count": 40,
   "metadata": {
    "collapsed": false
   },
   "outputs": [],
   "source": [
    "#as previously, we had to convert ourt data to matrices and use a vectorizer to be able to run our models\n",
    "data2 = data2.as_matrix()\n",
    "labels2 = labels_no_nan.as_matrix()\n",
    "# labels2 = labels2.as_matrix()\n",
    "\n",
    "dv = DictVectorizer(sparse=False) \n",
    "df = pd.DataFrame(data2).convert_objects(convert_numeric=True)\n",
    "data2 = dv.fit_transform(df.to_dict(orient='records'))"
   ]
  },
  {
   "cell_type": "code",
   "execution_count": 41,
   "metadata": {
    "collapsed": false
   },
   "outputs": [],
   "source": [
    "#Creating test data and labels\n",
    "test_data = data2[:,]\n",
    "test_labels = labels2[:,]"
   ]
  },
  {
   "cell_type": "code",
   "execution_count": 42,
   "metadata": {
    "collapsed": false
   },
   "outputs": [
    {
     "name": "stdout",
     "output_type": "stream",
     "text": [
      "(8000, 74) (8000, 23) (929615, 75) (99223, 23)\n"
     ]
    }
   ],
   "source": [
    "#We want to make sure our data are the same size\n",
    "print train_data.shape, train_labels.shape, test_data.shape, test_labels.shape"
   ]
  },
  {
   "cell_type": "code",
   "execution_count": 43,
   "metadata": {
    "collapsed": false
   },
   "outputs": [
    {
     "name": "stdout",
     "output_type": "stream",
     "text": [
      "(8000, 74) (8000, 23) (929615, 74) (99223, 23)\n"
     ]
    }
   ],
   "source": [
    "#We have to cut a feature....\n",
    "test_data = data2[:,:74]\n",
    "test_labels = labels2[:,]\n",
    "\n",
    "#re-testing data size\n",
    "print train_data.shape, train_labels.shape, test_data.shape, test_labels.shape"
   ]
  },
  {
   "cell_type": "markdown",
   "metadata": {},
   "source": [
    "# We initially tried using predict_proba but because of the size of the dataset, it did not work as expected."
   ]
  },
  {
   "cell_type": "code",
   "execution_count": 1,
   "metadata": {
    "collapsed": true
   },
   "outputs": [],
   "source": [
    "# accuracy = 0\n",
    "# count = 0\n",
    "# predict_proba = np.empty([0,0])\n",
    "# print predict_proba.shape\n",
    "# for i in range(train_labels.shape[1]): \n",
    "#     train_labels[:,i] = np.nan_to_num(train_labels[:,i])\n",
    "#     if np.sum(train_labels[:,i] != 0.0):\n",
    "#         count += 1\n",
    "#         clf = LogisticRegression()\n",
    "#         clf.fit(train_data,train_labels[:,i])\n",
    "#         print \"Prediction is \"\n",
    "#         temp = clf.predict_proba(test)\n",
    "#         print temp\n",
    "#         print np.sum(temp)\n",
    "#         predict_proba = np.append(predict_proba, temp)\n",
    "#         #print predict_proba.shape\n",
    "#     else:\n",
    "#         predict_proba = np.append(predict_proba, np.zeros([test.shape[0],1]))\n",
    "#         #print 'sklearn accuracy for i = %d with Logistic regression: %3.2f' %(i,clf.score(data, labels[:,i]))\n",
    "# #print \"Accuracy is %3.2f\" %(accuracy/count)       "
   ]
  },
  {
   "cell_type": "code",
   "execution_count": 2,
   "metadata": {
    "collapsed": true
   },
   "outputs": [],
   "source": [
    "# #reshaping\n",
    "# predict_proba = predict_proba.reshape(23,test.shape[0])\n",
    "# predict_proba = np.transpose(predict_proba)\n",
    "# predict_proba[88001]"
   ]
  },
  {
   "cell_type": "code",
   "execution_count": 4,
   "metadata": {
    "collapsed": true
   },
   "outputs": [],
   "source": [
    "# for i in range(len(predict_proba)):\n",
    "#     max_value = np.max(predict_proba[i])\n",
    "#     #print max_value\n",
    "#     for j in range((len(predict_proba[i]))):\n",
    "#         if predict_proba[i][j] == max_value:\n",
    "#             predict_proba[i][j] = 1\n",
    "#         else:\n",
    "#             predict_proba[i][j] = 0\n",
    "\n",
    "# predict_proba[501]"
   ]
  },
  {
   "cell_type": "markdown",
   "metadata": {},
   "source": [
    "# We ended up trying KNN with Predict_proba as well."
   ]
  },
  {
   "cell_type": "code",
   "execution_count": null,
   "metadata": {
    "collapsed": true
   },
   "outputs": [],
   "source": [
    "# accuracy = 0\n",
    "# count = 0\n",
    "# predict_proba = np.empty([0,0])\n",
    "# print predict_proba.shape\n",
    "# for i in range(train_labels.shape[1]): \n",
    "#     train_labels[:,i] = np.nan_to_num(train_labels[:,i])\n",
    "#     if np.sum(train_labels[:,i] != 0.0):\n",
    "#         count += 1\n",
    "#         clf = KNeighborsClassifier(n_neighbors=1)\n",
    "#         clf.fit(train_data,train_labels[:,i])\n",
    "#         print \"Prediction is \"\n",
    "#         temp = clf.predict_proba(test_data)\n",
    "#         print temp\n",
    "#         print np.sum(temp)\n",
    "#         predict_proba = np.append(predict_proba, temp)\n",
    "#         #print predict_proba.shape\n",
    "#     else:\n",
    "#         predict_proba = np.append(predict_proba, np.zeros([test_data.shape[0],1]))\n",
    "       \n",
    "# predict_proba = predict_proba.reshape(23,test.shape[0])\n",
    "# predict_proba = np.transpose(predict_proba)\n",
    "# for i in range(len(predict_proba)):\n",
    "#     max_value = np.max(predict_proba[i])\n",
    "#     #print max_value\n",
    "#     for j in range((len(predict_proba[i]))):\n",
    "#         if predict_proba[i][j] == max_value:\n",
    "#             predict_proba[i][j] = 1\n",
    "#         else:\n",
    "#             predict_proba[i][j] = 0"
   ]
  },
  {
   "cell_type": "markdown",
   "metadata": {},
   "source": [
    "# We ended up going with KNearest Neighbors and use \"predict\" instead."
   ]
  },
  {
   "cell_type": "code",
   "execution_count": 44,
   "metadata": {
    "collapsed": false,
    "scrolled": false
   },
   "outputs": [
    {
     "name": "stdout",
     "output_type": "stream",
     "text": [
      "[   15889.  1170544.  1170545.  1170547.  1170548.  1170550.  1170552.\n",
      "  1170553.  1170555.  1170557.] [[ 0.  1.  0.  0.  0.  0.  0.  0.  0.  0.  0.  0.  0.  0.  0.  0.  0.  0.\n",
      "   0.  0.  0.  0.  0.]\n",
      " [ 0.  1.  0.  0.  0.  0.  0.  0.  0.  0.  0.  0.  0.  0.  0.  0.  0.  0.\n",
      "   0.  0.  0.  0.  0.]\n",
      " [ 0.  1.  0.  0.  0.  0.  0.  0.  0.  0.  0.  0.  0.  0.  0.  0.  0.  0.\n",
      "   0.  0.  0.  0.  0.]\n",
      " [ 0.  1.  0.  0.  0.  0.  0.  0.  0.  0.  0.  0.  0.  0.  0.  0.  0.  0.\n",
      "   0.  0.  0.  0.  0.]\n",
      " [ 0.  1.  0.  0.  0.  0.  0.  0.  0.  0.  0.  0.  0.  0.  0.  0.  0.  0.\n",
      "   0.  0.  0.  0.  0.]\n",
      " [ 0.  1.  0.  0.  0.  0.  0.  0.  0.  0.  0.  0.  0.  0.  0.  0.  0.  0.\n",
      "   0.  0.  0.  0.  0.]\n",
      " [ 0.  1.  0.  0.  0.  0.  0.  0.  0.  0.  0.  0.  0.  0.  0.  0.  0.  0.\n",
      "   0.  0.  0.  0.  0.]\n",
      " [ 0.  1.  0.  0.  0.  0.  0.  0.  0.  0.  0.  0.  0.  0.  0.  0.  0.  0.\n",
      "   0.  0.  0.  0.  0.]\n",
      " [ 0.  1.  0.  0.  0.  0.  0.  0.  0.  0.  0.  0.  0.  0.  0.  0.  0.  0.\n",
      "   0.  0.  0.  0.  0.]\n",
      " [ 0.  1.  0.  0.  0.  0.  0.  0.  0.  0.  0.  0.  0.  0.  0.  0.  0.  0.\n",
      "   0.  0.  0.  0.  0.]]\n"
     ]
    }
   ],
   "source": [
    "#Predicting values with KNN to see how it stacks up for item 1, choosing our \"n_neighbors\" with highest score (see previous)\n",
    "clf = KNeighborsClassifier(n_neighbors=5)\n",
    "clf.fit(train_data,train_labels[:,:24])\n",
    "predicted_labels = clf.predict(test_data)\n",
    "\n",
    "#printing out a preview just to make sure it's working\n",
    "print test_data[:10,0], predicted_labels[:10]"
   ]
  },
  {
   "cell_type": "markdown",
   "metadata": {},
   "source": [
    "### Section with predict_proba"
   ]
  },
  {
   "cell_type": "code",
   "execution_count": 74,
   "metadata": {
    "collapsed": false
   },
   "outputs": [],
   "source": [
    "# accuracy = 0\n",
    "# count = 0\n",
    "# predict_proba = np.empty([0,0])\n",
    "# print predict_proba.shape\n",
    "# for i in range(train_labels.shape[1]): \n",
    "#     train_labels[:,i] = np.nan_to_num(train_labels[:,i])\n",
    "#     if np.sum(train_labels[:,i] != 0.0):\n",
    "#         count += 1\n",
    "#         clf = KNeighborsClassifier(n_neighbors=1)\n",
    "#         clf.fit(train_data,train_labels[:,i])\n",
    "#         print \"Prediction is \"\n",
    "#         temp = clf.predict_proba(test_data)\n",
    "#         print temp\n",
    "#         print np.sum(temp)\n",
    "#         predict_proba = np.append(predict_proba, temp)\n",
    "#         #print predict_proba.shape\n",
    "#     else:\n",
    "#         predict_proba = np.append(predict_proba, np.zeros([test_data.shape[0],1]))\n",
    "        \n",
    "# predict_proba = predict_proba.reshape(23,test.shape[0])\n",
    "# predict_proba = np.transpose(predict_proba)\n",
    "# for i in range(len(predict_proba)):\n",
    "#     max_value = np.max(predict_proba[i])\n",
    "#     #print max_value\n",
    "#     for j in range((len(predict_proba[i]))):\n",
    "#         if predict_proba[i][j] == max_value:\n",
    "#             predict_proba[i][j] = 1\n",
    "#         else:\n",
    "#             predict_proba[i][j] = 0"
   ]
  },
  {
   "cell_type": "code",
   "execution_count": 45,
   "metadata": {
    "collapsed": false
   },
   "outputs": [
    {
     "name": "stdout",
     "output_type": "stream",
     "text": [
      "929615\n"
     ]
    }
   ],
   "source": [
    "#Testing to make sure we preserved the number of unique ncodpers\n",
    "print len(predicted_labels)"
   ]
  },
  {
   "cell_type": "code",
   "execution_count": 46,
   "metadata": {
    "collapsed": false
   },
   "outputs": [
    {
     "name": "stdout",
     "output_type": "stream",
     "text": [
      "911\n"
     ]
    }
   ],
   "source": [
    "#We wanted to see how many of the clients had missing labels (i.e., had nothing in the product cateogyr)\n",
    "#The code replaces with the most common product\n",
    "count = 0\n",
    "for i in range(len(predicted_labels)):\n",
    "    if np.sum(predicted_labels[i]) == 0.0:\n",
    "        predicted_labels[i] = np.array([ 0,  1,  0,  0,  0,  0,  0,  0,  0,  0,  0,  0,  0,  0,  0,  0,  \n",
    "                                        0,  0, 0,  0,  0,  0,  0])\n",
    "        count += 1\n",
    "#Tells us how many clients with missing labels there were, that are now replaced\n",
    "print count        "
   ]
  },
  {
   "cell_type": "markdown",
   "metadata": {},
   "source": [
    "### Kaggle expects a product recommendation for every customer. Our model didnt recommend a single product for 911 customers. So, we recommend the most popular product to these customers"
   ]
  },
  {
   "cell_type": "code",
   "execution_count": 47,
   "metadata": {
    "collapsed": false
   },
   "outputs": [
    {
     "data": {
      "text/html": [
       "<div>\n",
       "<table border=\"1\" class=\"dataframe\">\n",
       "  <thead>\n",
       "    <tr style=\"text-align: right;\">\n",
       "      <th></th>\n",
       "      <th>ncodpers</th>\n",
       "      <th>product1</th>\n",
       "      <th>product10</th>\n",
       "      <th>product11</th>\n",
       "      <th>product12</th>\n",
       "      <th>product13</th>\n",
       "      <th>product14</th>\n",
       "      <th>product15</th>\n",
       "      <th>product16</th>\n",
       "      <th>product17</th>\n",
       "      <th>...</th>\n",
       "      <th>product21</th>\n",
       "      <th>product22</th>\n",
       "      <th>product23</th>\n",
       "      <th>product3</th>\n",
       "      <th>product4</th>\n",
       "      <th>product5</th>\n",
       "      <th>product6</th>\n",
       "      <th>product7</th>\n",
       "      <th>product8</th>\n",
       "      <th>product9</th>\n",
       "    </tr>\n",
       "  </thead>\n",
       "  <tbody>\n",
       "    <tr>\n",
       "      <th>0</th>\n",
       "      <td>15889.0</td>\n",
       "      <td>0.0</td>\n",
       "      <td>0.0</td>\n",
       "      <td>0.0</td>\n",
       "      <td>0.0</td>\n",
       "      <td>0.0</td>\n",
       "      <td>0.0</td>\n",
       "      <td>0.0</td>\n",
       "      <td>0.0</td>\n",
       "      <td>0.0</td>\n",
       "      <td>...</td>\n",
       "      <td>0.0</td>\n",
       "      <td>0.0</td>\n",
       "      <td>0.0</td>\n",
       "      <td>0.0</td>\n",
       "      <td>0.0</td>\n",
       "      <td>0.0</td>\n",
       "      <td>0.0</td>\n",
       "      <td>0.0</td>\n",
       "      <td>0.0</td>\n",
       "      <td>0.0</td>\n",
       "    </tr>\n",
       "    <tr>\n",
       "      <th>1</th>\n",
       "      <td>1170544.0</td>\n",
       "      <td>0.0</td>\n",
       "      <td>0.0</td>\n",
       "      <td>0.0</td>\n",
       "      <td>0.0</td>\n",
       "      <td>0.0</td>\n",
       "      <td>0.0</td>\n",
       "      <td>0.0</td>\n",
       "      <td>0.0</td>\n",
       "      <td>0.0</td>\n",
       "      <td>...</td>\n",
       "      <td>0.0</td>\n",
       "      <td>0.0</td>\n",
       "      <td>0.0</td>\n",
       "      <td>0.0</td>\n",
       "      <td>0.0</td>\n",
       "      <td>0.0</td>\n",
       "      <td>0.0</td>\n",
       "      <td>0.0</td>\n",
       "      <td>0.0</td>\n",
       "      <td>0.0</td>\n",
       "    </tr>\n",
       "    <tr>\n",
       "      <th>2</th>\n",
       "      <td>1170545.0</td>\n",
       "      <td>0.0</td>\n",
       "      <td>0.0</td>\n",
       "      <td>0.0</td>\n",
       "      <td>0.0</td>\n",
       "      <td>0.0</td>\n",
       "      <td>0.0</td>\n",
       "      <td>0.0</td>\n",
       "      <td>0.0</td>\n",
       "      <td>0.0</td>\n",
       "      <td>...</td>\n",
       "      <td>0.0</td>\n",
       "      <td>0.0</td>\n",
       "      <td>0.0</td>\n",
       "      <td>0.0</td>\n",
       "      <td>0.0</td>\n",
       "      <td>0.0</td>\n",
       "      <td>0.0</td>\n",
       "      <td>0.0</td>\n",
       "      <td>0.0</td>\n",
       "      <td>0.0</td>\n",
       "    </tr>\n",
       "    <tr>\n",
       "      <th>3</th>\n",
       "      <td>1170547.0</td>\n",
       "      <td>0.0</td>\n",
       "      <td>0.0</td>\n",
       "      <td>0.0</td>\n",
       "      <td>0.0</td>\n",
       "      <td>0.0</td>\n",
       "      <td>0.0</td>\n",
       "      <td>0.0</td>\n",
       "      <td>0.0</td>\n",
       "      <td>0.0</td>\n",
       "      <td>...</td>\n",
       "      <td>0.0</td>\n",
       "      <td>0.0</td>\n",
       "      <td>0.0</td>\n",
       "      <td>0.0</td>\n",
       "      <td>0.0</td>\n",
       "      <td>0.0</td>\n",
       "      <td>0.0</td>\n",
       "      <td>0.0</td>\n",
       "      <td>0.0</td>\n",
       "      <td>0.0</td>\n",
       "    </tr>\n",
       "    <tr>\n",
       "      <th>4</th>\n",
       "      <td>1170548.0</td>\n",
       "      <td>0.0</td>\n",
       "      <td>0.0</td>\n",
       "      <td>0.0</td>\n",
       "      <td>0.0</td>\n",
       "      <td>0.0</td>\n",
       "      <td>0.0</td>\n",
       "      <td>0.0</td>\n",
       "      <td>0.0</td>\n",
       "      <td>0.0</td>\n",
       "      <td>...</td>\n",
       "      <td>0.0</td>\n",
       "      <td>0.0</td>\n",
       "      <td>0.0</td>\n",
       "      <td>0.0</td>\n",
       "      <td>0.0</td>\n",
       "      <td>0.0</td>\n",
       "      <td>0.0</td>\n",
       "      <td>0.0</td>\n",
       "      <td>0.0</td>\n",
       "      <td>0.0</td>\n",
       "    </tr>\n",
       "  </tbody>\n",
       "</table>\n",
       "<p>5 rows × 24 columns</p>\n",
       "</div>"
      ],
      "text/plain": [
       "    ncodpers  product1  product10  product11  product12  product13  product14  \\\n",
       "0    15889.0       0.0        0.0        0.0        0.0        0.0        0.0   \n",
       "1  1170544.0       0.0        0.0        0.0        0.0        0.0        0.0   \n",
       "2  1170545.0       0.0        0.0        0.0        0.0        0.0        0.0   \n",
       "3  1170547.0       0.0        0.0        0.0        0.0        0.0        0.0   \n",
       "4  1170548.0       0.0        0.0        0.0        0.0        0.0        0.0   \n",
       "\n",
       "   product15  product16  product17    ...     product21  product22  product23  \\\n",
       "0        0.0        0.0        0.0    ...           0.0        0.0        0.0   \n",
       "1        0.0        0.0        0.0    ...           0.0        0.0        0.0   \n",
       "2        0.0        0.0        0.0    ...           0.0        0.0        0.0   \n",
       "3        0.0        0.0        0.0    ...           0.0        0.0        0.0   \n",
       "4        0.0        0.0        0.0    ...           0.0        0.0        0.0   \n",
       "\n",
       "   product3  product4  product5  product6  product7  product8  product9  \n",
       "0       0.0       0.0       0.0       0.0       0.0       0.0       0.0  \n",
       "1       0.0       0.0       0.0       0.0       0.0       0.0       0.0  \n",
       "2       0.0       0.0       0.0       0.0       0.0       0.0       0.0  \n",
       "3       0.0       0.0       0.0       0.0       0.0       0.0       0.0  \n",
       "4       0.0       0.0       0.0       0.0       0.0       0.0       0.0  \n",
       "\n",
       "[5 rows x 24 columns]"
      ]
     },
     "execution_count": 47,
     "metadata": {},
     "output_type": "execute_result"
    }
   ],
   "source": [
    "#We created a data frame \n",
    "sample = pd.DataFrame({'ncodpers':test_data[:,0], \n",
    "                       'product1':predicted_labels[:,0], \n",
    "                       'product2':predicted_labels[:,1],\n",
    "                      'product3':predicted_labels[:,2],\n",
    "                      'product4':predicted_labels[:,3],\n",
    "                      'product5':predicted_labels[:,4],\n",
    "                      'product6':predicted_labels[:,5],\n",
    "                      'product7':predicted_labels[:,6],\n",
    "                      'product8':predicted_labels[:,7],\n",
    "                      'product9':predicted_labels[:,8],\n",
    "                      'product10':predicted_labels[:,9],\n",
    "                      'product11':predicted_labels[:,10],\n",
    "                      'product12':predicted_labels[:,11],\n",
    "                      'product13':predicted_labels[:,12],\n",
    "                      'product14':predicted_labels[:,13],\n",
    "                      'product15':predicted_labels[:,14],\n",
    "                      'product16':predicted_labels[:,15],\n",
    "                      'product17':predicted_labels[:,16],\n",
    "                      'product18':predicted_labels[:,17],\n",
    "                      'product19':predicted_labels[:,18],\n",
    "                      'product20':predicted_labels[:,19],\n",
    "                      'product21':predicted_labels[:,20],\n",
    "                      'product22':predicted_labels[:,21],\n",
    "                      'product23':predicted_labels[:,22]})\n",
    "sample.head()"
   ]
  },
  {
   "cell_type": "code",
   "execution_count": 48,
   "metadata": {
    "collapsed": false
   },
   "outputs": [
    {
     "name": "stdout",
     "output_type": "stream",
     "text": [
      "929615\n"
     ]
    }
   ],
   "source": [
    "print len(sample)"
   ]
  },
  {
   "cell_type": "code",
   "execution_count": 49,
   "metadata": {
    "collapsed": false
   },
   "outputs": [
    {
     "data": {
      "text/html": [
       "<div>\n",
       "<table border=\"1\" class=\"dataframe\">\n",
       "  <thead>\n",
       "    <tr style=\"text-align: right;\">\n",
       "      <th></th>\n",
       "      <th>ncodpers</th>\n",
       "      <th>variable</th>\n",
       "      <th>value</th>\n",
       "    </tr>\n",
       "  </thead>\n",
       "  <tbody>\n",
       "    <tr>\n",
       "      <th>0</th>\n",
       "      <td>15889.0</td>\n",
       "      <td>product1</td>\n",
       "      <td>0.0</td>\n",
       "    </tr>\n",
       "    <tr>\n",
       "      <th>1</th>\n",
       "      <td>1170544.0</td>\n",
       "      <td>product1</td>\n",
       "      <td>0.0</td>\n",
       "    </tr>\n",
       "    <tr>\n",
       "      <th>2</th>\n",
       "      <td>1170545.0</td>\n",
       "      <td>product1</td>\n",
       "      <td>0.0</td>\n",
       "    </tr>\n",
       "    <tr>\n",
       "      <th>3</th>\n",
       "      <td>1170547.0</td>\n",
       "      <td>product1</td>\n",
       "      <td>0.0</td>\n",
       "    </tr>\n",
       "    <tr>\n",
       "      <th>4</th>\n",
       "      <td>1170548.0</td>\n",
       "      <td>product1</td>\n",
       "      <td>0.0</td>\n",
       "    </tr>\n",
       "  </tbody>\n",
       "</table>\n",
       "</div>"
      ],
      "text/plain": [
       "    ncodpers  variable  value\n",
       "0    15889.0  product1    0.0\n",
       "1  1170544.0  product1    0.0\n",
       "2  1170545.0  product1    0.0\n",
       "3  1170547.0  product1    0.0\n",
       "4  1170548.0  product1    0.0"
      ]
     },
     "execution_count": 49,
     "metadata": {},
     "output_type": "execute_result"
    }
   ],
   "source": [
    "#Create two-column data frame\n",
    "z = pd.melt(sample, id_vars = ['ncodpers'], value_vars =[u'product1', u'product10', u'product11', u'product12',\n",
    "       u'product13', u'product14', u'product15', u'product16', u'product17',\n",
    "       u'product18', u'product19', u'product2', u'product20', u'product21',\n",
    "       u'product22', u'product23', u'product3', u'product4', u'product5',\n",
    "       u'product6', u'product7', u'product8', u'product9'] )\n",
    "z.head()"
   ]
  },
  {
   "cell_type": "code",
   "execution_count": 50,
   "metadata": {
    "collapsed": false
   },
   "outputs": [
    {
     "name": "stdout",
     "output_type": "stream",
     "text": [
      "929615\n"
     ]
    }
   ],
   "source": [
    "print len(z.ncodpers.unique())"
   ]
  },
  {
   "cell_type": "code",
   "execution_count": 51,
   "metadata": {
    "collapsed": false
   },
   "outputs": [
    {
     "data": {
      "text/plain": [
       "23"
      ]
     },
     "execution_count": 51,
     "metadata": {},
     "output_type": "execute_result"
    }
   ],
   "source": [
    "product_list = [u'ind_aval_fin_ult1',\n",
    " u'ind_cco_fin_ult1',\n",
    " u'ind_cder_fin_ult1',\n",
    " u'ind_cno_fin_ult1',\n",
    " u'ind_ctju_fin_ult1',\n",
    " u'ind_ctma_fin_ult1',\n",
    " u'ind_ctop_fin_ult1',\n",
    " u'ind_ctpp_fin_ult1',\n",
    " u'ind_deco_fin_ult1',\n",
    " u'ind_deme_fin_ult1',\n",
    " u'ind_dela_fin_ult1',\n",
    " u'ind_ecue_fin_ult1',\n",
    " u'ind_fond_fin_ult1',\n",
    " u'ind_hip_fin_ult1',\n",
    " u'ind_plan_fin_ult1',\n",
    " u'ind_pres_fin_ult1',\n",
    " u'ind_reca_fin_ult1',\n",
    " u'ind_tjcr_fin_ult1',\n",
    " u'ind_valo_fin_ult1',\n",
    " u'ind_viv_fin_ult1',\n",
    " u'ind_nomina_ult1',\n",
    " u'ind_nom_pens_ult1',\n",
    " u'ind_recibo_ult1']\n",
    "len(product_list)"
   ]
  },
  {
   "cell_type": "code",
   "execution_count": 52,
   "metadata": {
    "collapsed": false
   },
   "outputs": [
    {
     "name": "stdout",
     "output_type": "stream",
     "text": [
      "931803\n"
     ]
    }
   ],
   "source": [
    "#only choosing products that were added, represented by the binary \"1.0\"\n",
    "zz = z[z.value==1.0]\n",
    "print len(zz.ncodpers)"
   ]
  },
  {
   "cell_type": "code",
   "execution_count": 53,
   "metadata": {
    "collapsed": false,
    "scrolled": false
   },
   "outputs": [
    {
     "name": "stdout",
     "output_type": "stream",
     "text": [
      "931803 931803\n"
     ]
    }
   ],
   "source": [
    "#replacing \"product1, product2\", etc with the actual name from the data set\n",
    "var_list = []\n",
    "for i in zz.variable:\n",
    "    loc = int(i[7::])-1\n",
    "    var_list.append(str(product_list[loc]))\n",
    "print len(var_list), len(zz.variable)"
   ]
  },
  {
   "cell_type": "code",
   "execution_count": 54,
   "metadata": {
    "collapsed": false
   },
   "outputs": [
    {
     "data": {
      "text/plain": [
       "929615"
      ]
     },
     "execution_count": 54,
     "metadata": {},
     "output_type": "execute_result"
    }
   ],
   "source": [
    "#making sure we still have the right number of ncodpers\n",
    "ncodpers_list=z.ncodpers.unique()\n",
    "len(ncodpers_list)"
   ]
  },
  {
   "cell_type": "code",
   "execution_count": 55,
   "metadata": {
    "collapsed": false
   },
   "outputs": [],
   "source": [
    "#adding product list to data frame\n",
    "SE = pd.Series(var_list)\n",
    "\n",
    "zz['added_products'] = SE.values"
   ]
  },
  {
   "cell_type": "code",
   "execution_count": 56,
   "metadata": {
    "collapsed": false,
    "scrolled": true
   },
   "outputs": [
    {
     "data": {
      "text/html": [
       "<div>\n",
       "<table border=\"1\" class=\"dataframe\">\n",
       "  <thead>\n",
       "    <tr style=\"text-align: right;\">\n",
       "      <th></th>\n",
       "      <th>ncodpers</th>\n",
       "      <th>variable</th>\n",
       "      <th>value</th>\n",
       "      <th>added_products</th>\n",
       "    </tr>\n",
       "  </thead>\n",
       "  <tbody>\n",
       "    <tr>\n",
       "      <th>2074620</th>\n",
       "      <td>1053205.0</td>\n",
       "      <td>product11</td>\n",
       "      <td>1.0</td>\n",
       "      <td>ind_dela_fin_ult1</td>\n",
       "    </tr>\n",
       "    <tr>\n",
       "      <th>2075468</th>\n",
       "      <td>1054657.0</td>\n",
       "      <td>product11</td>\n",
       "      <td>1.0</td>\n",
       "      <td>ind_dela_fin_ult1</td>\n",
       "    </tr>\n",
       "    <tr>\n",
       "      <th>2076183</th>\n",
       "      <td>1054422.0</td>\n",
       "      <td>product11</td>\n",
       "      <td>1.0</td>\n",
       "      <td>ind_dela_fin_ult1</td>\n",
       "    </tr>\n",
       "    <tr>\n",
       "      <th>2076306</th>\n",
       "      <td>1054193.0</td>\n",
       "      <td>product11</td>\n",
       "      <td>1.0</td>\n",
       "      <td>ind_dela_fin_ult1</td>\n",
       "    </tr>\n",
       "    <tr>\n",
       "      <th>2076315</th>\n",
       "      <td>1054157.0</td>\n",
       "      <td>product11</td>\n",
       "      <td>1.0</td>\n",
       "      <td>ind_dela_fin_ult1</td>\n",
       "    </tr>\n",
       "  </tbody>\n",
       "</table>\n",
       "</div>"
      ],
      "text/plain": [
       "          ncodpers   variable  value     added_products\n",
       "2074620  1053205.0  product11    1.0  ind_dela_fin_ult1\n",
       "2075468  1054657.0  product11    1.0  ind_dela_fin_ult1\n",
       "2076183  1054422.0  product11    1.0  ind_dela_fin_ult1\n",
       "2076306  1054193.0  product11    1.0  ind_dela_fin_ult1\n",
       "2076315  1054157.0  product11    1.0  ind_dela_fin_ult1"
      ]
     },
     "execution_count": 56,
     "metadata": {},
     "output_type": "execute_result"
    }
   ],
   "source": [
    "#checking to make sure we incorporated into data frame\n",
    "zz.head()"
   ]
  },
  {
   "cell_type": "code",
   "execution_count": 57,
   "metadata": {
    "collapsed": false
   },
   "outputs": [
    {
     "name": "stdout",
     "output_type": "stream",
     "text": [
      "931803\n"
     ]
    }
   ],
   "source": [
    "print len(zz.ncodpers)"
   ]
  },
  {
   "cell_type": "code",
   "execution_count": 58,
   "metadata": {
    "collapsed": true
   },
   "outputs": [],
   "source": [
    "#checking for missing values (this should be zero)\n",
    "xx = z[z.value==0.0]"
   ]
  },
  {
   "cell_type": "code",
   "execution_count": 59,
   "metadata": {
    "collapsed": false
   },
   "outputs": [
    {
     "name": "stdout",
     "output_type": "stream",
     "text": [
      "('Number of customers not mapped yet : ', 0)\n"
     ]
    }
   ],
   "source": [
    "#making sure we didn't forget any customers\n",
    "set_all = set(xx.ncodpers.unique())\n",
    "set_added_product = set(zz.ncodpers.unique())\n",
    "set_diff = set_all.symmetric_difference(set_added_product)\n",
    "print(\"Number of customers not mapped yet : \", len(set_all.symmetric_difference(set_added_product)))"
   ]
  },
  {
   "cell_type": "code",
   "execution_count": 60,
   "metadata": {
    "collapsed": false,
    "scrolled": true
   },
   "outputs": [
    {
     "data": {
      "text/html": [
       "<div>\n",
       "<table border=\"1\" class=\"dataframe\">\n",
       "  <thead>\n",
       "    <tr style=\"text-align: right;\">\n",
       "      <th></th>\n",
       "      <th>ncodpers</th>\n",
       "      <th>added_products</th>\n",
       "    </tr>\n",
       "  </thead>\n",
       "  <tbody>\n",
       "    <tr>\n",
       "      <th>2074620</th>\n",
       "      <td>1053205</td>\n",
       "      <td>ind_dela_fin_ult1</td>\n",
       "    </tr>\n",
       "    <tr>\n",
       "      <th>2075468</th>\n",
       "      <td>1054657</td>\n",
       "      <td>ind_dela_fin_ult1</td>\n",
       "    </tr>\n",
       "    <tr>\n",
       "      <th>2076183</th>\n",
       "      <td>1054422</td>\n",
       "      <td>ind_dela_fin_ult1</td>\n",
       "    </tr>\n",
       "    <tr>\n",
       "      <th>2076306</th>\n",
       "      <td>1054193</td>\n",
       "      <td>ind_dela_fin_ult1</td>\n",
       "    </tr>\n",
       "    <tr>\n",
       "      <th>2076315</th>\n",
       "      <td>1054157</td>\n",
       "      <td>ind_dela_fin_ult1</td>\n",
       "    </tr>\n",
       "  </tbody>\n",
       "</table>\n",
       "</div>"
      ],
      "text/plain": [
       "         ncodpers     added_products\n",
       "2074620   1053205  ind_dela_fin_ult1\n",
       "2075468   1054657  ind_dela_fin_ult1\n",
       "2076183   1054422  ind_dela_fin_ult1\n",
       "2076306   1054193  ind_dela_fin_ult1\n",
       "2076315   1054157  ind_dela_fin_ult1"
      ]
     },
     "execution_count": 60,
     "metadata": {},
     "output_type": "execute_result"
    }
   ],
   "source": [
    "final_df = zz[['ncodpers','added_products']]\n",
    "\n",
    "final_df['ncodpers'] = pd.DataFrame(final_df.ncodpers, dtype='int')\n",
    "\n",
    "final_df.head()"
   ]
  },
  {
   "cell_type": "code",
   "execution_count": 61,
   "metadata": {
    "collapsed": false
   },
   "outputs": [
    {
     "name": "stdout",
     "output_type": "stream",
     "text": [
      "929615\n"
     ]
    }
   ],
   "source": [
    "print len(final_df.ncodpers.unique())"
   ]
  },
  {
   "cell_type": "code",
   "execution_count": 62,
   "metadata": {
    "collapsed": false
   },
   "outputs": [],
   "source": [
    "#dropping duplicates\n",
    "final_df = final_df.drop_duplicates(subset=['ncodpers'])"
   ]
  },
  {
   "cell_type": "code",
   "execution_count": 63,
   "metadata": {
    "collapsed": false
   },
   "outputs": [
    {
     "data": {
      "text/plain": [
       "ind_cco_fin_ult1     928437\n",
       "ind_ecue_fin_ult1      1061\n",
       "ind_ctju_fin_ult1        53\n",
       "ind_recibo_ult1          46\n",
       "ind_nomina_ult1           8\n",
       "ind_dela_fin_ult1         6\n",
       "ind_cno_fin_ult1          4\n",
       "Name: added_products, dtype: int64"
      ]
     },
     "execution_count": 63,
     "metadata": {},
     "output_type": "execute_result"
    }
   ],
   "source": [
    "#Quick view of the distribution\n",
    "final_df.added_products.value_counts()"
   ]
  },
  {
   "cell_type": "code",
   "execution_count": 64,
   "metadata": {
    "collapsed": false
   },
   "outputs": [
    {
     "data": {
      "text/plain": [
       "<matplotlib.axes._subplots.AxesSubplot at 0x10e4c54d0>"
      ]
     },
     "execution_count": 64,
     "metadata": {},
     "output_type": "execute_result"
    },
    {
     "data": {
      "image/png": "[encoded data removed]",
      "text/plain": [
       "<matplotlib.figure.Figure at 0x111c59650>"
      ]
     },
     "metadata": {},
     "output_type": "display_data"
    }
   ],
   "source": [
    "#Bar graph showing the products, a lot of customers added e-accounts (second bar), \n",
    "#part 1 tries to show the smaller values\n",
    "pd.value_counts(final_df[final_df.added_products!= 'ind_cco_fin_ult1'].added_products).plot(kind='barh')"
   ]
  },
  {
   "cell_type": "code",
   "execution_count": 65,
   "metadata": {
    "collapsed": false
   },
   "outputs": [
    {
     "data": {
      "text/plain": [
       "<matplotlib.axes._subplots.AxesSubplot at 0x10e547090>"
      ]
     },
     "execution_count": 65,
     "metadata": {},
     "output_type": "execute_result"
    },
    {
     "data": {
      "image/png": "[encoded data removed]",
      "text/plain": [
       "<matplotlib.figure.Figure at 0x111bc4d10>"
      ]
     },
     "metadata": {},
     "output_type": "display_data"
    }
   ],
   "source": [
    "#Bar graph showing the products, a lot of customers added e-accounts (second bar), \n",
    "#part 2 shows the largest value\n",
    "pd.value_counts(final_df.added_products).plot(kind=\"barh\")"
   ]
  },
  {
   "cell_type": "code",
   "execution_count": 66,
   "metadata": {
    "collapsed": true
   },
   "outputs": [],
   "source": [
    "#final_df.to_csv(\"submission.csv\", index=False)"
   ]
  }
 ],
 "metadata": {
  "anaconda-cloud": {},
  "kernelspec": {
   "display_name": "Python 2",
   "language": "python",
   "name": "python2"
  },
  "language_info": {
   "codemirror_mode": {
    "name": "ipython",
    "version": 2
   },
   "file_extension": ".py",
   "mimetype": "text/x-python",
   "name": "python",
   "nbconvert_exporter": "python",
   "pygments_lexer": "ipython2",
   "version": "2.7.12"
  }
 },
 "nbformat": 4,
 "nbformat_minor": 1
}
